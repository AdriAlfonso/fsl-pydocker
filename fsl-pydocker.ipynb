{
 "cells": [
  {
   "cell_type": "code",
   "execution_count": 31,
   "id": "0321c62f-8454-4606-8070-c028bfa3da93",
   "metadata": {},
   "outputs": [
    {
     "name": "stdout",
     "output_type": "stream",
     "text": [
      "Content of directory /volume/ in the container:\n",
      "hi.txt\n",
      "\n",
      "Welcome to FSL! -> 5.0.9\n",
      "\n"
     ]
    }
   ],
   "source": [
    "import docker\n",
    "\n",
    "def run_container():\n",
    "    try:\n",
    "        # Create a Docker client\n",
    "        client = docker.from_env()\n",
    "\n",
    "        # Specify the Docker image to use\n",
    "        image = \"brainlife/fsl\"\n",
    "\n",
    "        # Local directory with your FSL data\n",
    "        local_fsl_data_path = \"C:\\\\Users\\\\adria\\\\OneDrive\\\\Escritorio\\\\fsl-pydocker\\\\volume\"\n",
    "\n",
    "        # Directory inside the container where the volume will be mounted\n",
    "        container_fsl_data_path = \"/volume/\"\n",
    "\n",
    "        # Container configuration\n",
    "        container_config = {\n",
    "            'tty': True,\n",
    "            'stdin_open': True,\n",
    "            'detach': True,\n",
    "            'working_dir': '/fsl-pydocker',  # Set the working directory inside the container\n",
    "            'command': '/bin/bash',\n",
    "            'volumes': {local_fsl_data_path: {'bind': container_fsl_data_path, 'mode': 'rw'}}\n",
    "            # Mount the local directory into the container with read and write permissions\n",
    "        }\n",
    "\n",
    "        # Run the container with the specified volume\n",
    "        container = client.containers.run(image, **container_config)\n",
    "\n",
    "        # Execute 'ls' command inside the container to list the content of the specified directory\n",
    "        ls_result = container.exec_run(['ls', container_fsl_data_path])\n",
    "        print(f\"Content of directory {container_fsl_data_path} in the container:\")\n",
    "        print(ls_result.output.decode('utf-8'))\n",
    "        \n",
    "        # Display the FSL version in the container\n",
    "        fsl_version = container.exec_run(['cat', '/usr/share/fsl/5.0/etc/fslversion'])\n",
    "        print('Welcome to FSL!' + ' -> ' + fsl_version.output.decode('utf-8'))\n",
    "\n",
    "    except Exception as e:\n",
    "        print(f\"An error occurred: {str(e)}\")\n",
    "\n",
    "    finally:\n",
    "        # Stop and remove the container once the operations are done\n",
    "        container.stop()\n",
    "        container.remove()\n",
    "\n",
    "if __name__ == \"__main__\":\n",
    "    run_container()\n"
   ]
  },
  {
   "cell_type": "code",
   "execution_count": null,
   "id": "7f445b36-d18a-457d-9db5-aa59949c941a",
   "metadata": {},
   "outputs": [],
   "source": []
  }
 ],
 "metadata": {
  "kernelspec": {
   "display_name": "Python 3 (ipykernel)",
   "language": "python",
   "name": "python3"
  },
  "language_info": {
   "codemirror_mode": {
    "name": "ipython",
    "version": 3
   },
   "file_extension": ".py",
   "mimetype": "text/x-python",
   "name": "python",
   "nbconvert_exporter": "python",
   "pygments_lexer": "ipython3",
   "version": "3.11.5"
  }
 },
 "nbformat": 4,
 "nbformat_minor": 5
}
