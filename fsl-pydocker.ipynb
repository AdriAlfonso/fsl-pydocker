{
 "cells": [
  {
   "cell_type": "code",
   "execution_count": 43,
   "id": "0321c62f-8454-4606-8070-c028bfa3da93",
   "metadata": {},
   "outputs": [
    {
     "name": "stdout",
     "output_type": "stream",
     "text": [
      "Welcome to FSL! -> 5.0.9\n",
      "\n"
     ]
    }
   ],
   "source": [
    "import docker\n",
    "\n",
    "def run_container():\n",
    "    # Create a Docker client\n",
    "    client = docker.from_env()\n",
    "\n",
    "    # Specify the image\n",
    "    image = \"brainlife/fsl\"\n",
    "\n",
    "    # Container configuration\n",
    "    container_config = {\n",
    "        'tty': True,\n",
    "        'stdin_open': True,\n",
    "        'detach': True,\n",
    "        'working_dir': '/',\n",
    "        'command': '/bin/bash'\n",
    "    }\n",
    "\n",
    "    # Run the container\n",
    "    container = client.containers.run(image, **container_config)\n",
    "    \n",
    "    # Show FSL version\n",
    "    fsl_version = container.exec_run(['cat', '/usr/share/fsl/5.0/etc/fslversion'])\n",
    "    print('Welcome to FSL!' + ' -> ' + fsl_version.output.decode('utf-8'))\n",
    "\n",
    "    # Stop and remove the container\n",
    "    container.stop()\n",
    "    container.remove()\n",
    "\n",
    "if __name__ == \"__main__\":\n",
    "    run_container()\n"
   ]
  }
 ],
 "metadata": {
  "kernelspec": {
   "display_name": "Python 3 (ipykernel)",
   "language": "python",
   "name": "python3"
  },
  "language_info": {
   "codemirror_mode": {
    "name": "ipython",
    "version": 3
   },
   "file_extension": ".py",
   "mimetype": "text/x-python",
   "name": "python",
   "nbconvert_exporter": "python",
   "pygments_lexer": "ipython3",
   "version": "3.11.5"
  }
 },
 "nbformat": 4,
 "nbformat_minor": 5
}
